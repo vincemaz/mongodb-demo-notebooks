{
 "cells": [
  {
   "cell_type": "code",
   "execution_count": 1,
   "metadata": {},
   "outputs": [],
   "source": [
    "from pymongo import MongoClient\n",
    "from pymongo.encryption import (ClientEncryption, AutoEncryptionOpts)\n",
    "from bson.codec_options import CodecOptions\n",
    "from bson.binary import STANDARD\n",
    "from dotenv import load_dotenv\n",
    "from datetime import datetime, time\n",
    "import os"
   ]
  },
  {
   "cell_type": "code",
   "execution_count": 8,
   "metadata": {},
   "outputs": [],
   "source": [
    "# load variables from .env file\n",
    "load_dotenv()\n",
    "\n",
    "# setup notebooks variables\n",
    "uri = os.environ['MONGODB_URI']  # Your connection URI\n",
    "key_vault_database_name = \"encryption\"\n",
    "key_vault_collection_name = \"__keyVault_customers\"\n",
    "key_vault_namespace = f\"{key_vault_database_name}.{key_vault_collection_name}\"\n",
    "encrypted_database_name = \"sample_analytics\"\n",
    "encrypted_collection_name = \"customers_enc\"\n",
    "source_database_name = \"sample_analytics\"\n",
    "source_collection_name = \"customers\""
   ]
  },
  {
   "cell_type": "code",
   "execution_count": 3,
   "metadata": {},
   "outputs": [
    {
     "name": "stdout",
     "output_type": "stream",
     "text": [
      "CMK file already exists.\n"
     ]
    }
   ],
   "source": [
    "# create or reuse the CMK from the customer-master-key.txt file if it exists\n",
    "if not os.path.exists(\"./customer-master-key.txt\"):\n",
    "    try:\n",
    "        path = \"./customer-master-key.txt\"\n",
    "        file_bytes = os.urandom(96)\n",
    "        with open(path, \"wb\") as f:\n",
    "            f.write(file_bytes)\n",
    "        print(\"CMK file successfuly created.\")\n",
    "    except Exception as e:\n",
    "        raise Exception(\"Unable to write Customer Master Key to file due to the following error: \", e)\n",
    "else:\n",
    "    print(\"CMK file already exists.\")\n"
   ]
  },
  {
   "cell_type": "code",
   "execution_count": 4,
   "metadata": {},
   "outputs": [],
   "source": [
    "# build local kms provider credentials with the local CMK\n",
    "try:\n",
    "    path = \"./customer-master-key.txt\"\n",
    "    with open(path, \"rb\") as f:\n",
    "        local_master_key = f.read()\n",
    "        kms_provider_credentials = {\n",
    "            \"local\": {\n",
    "                \"key\": local_master_key\n",
    "            },\n",
    "        }\n",
    "except Exception as e:\n",
    "    raise Exception(\"Unable to read Customer Master Key from file due to the following error: \", e)"
   ]
  },
  {
   "cell_type": "code",
   "execution_count": 9,
   "metadata": {},
   "outputs": [],
   "source": [
    "# build MongoDB encrypted client\n",
    "encrypted_client = MongoClient(\n",
    "    uri,\n",
    "    auto_encryption_opts= AutoEncryptionOpts(\n",
    "        kms_provider_credentials,\n",
    "        key_vault_namespace,\n",
    "        crypt_shared_lib_required=True,\n",
    "        crypt_shared_lib_path=os.environ['SHARED_LIB_PATH']\n",
    "    )\n",
    ")"
   ]
  },
  {
   "cell_type": "code",
   "execution_count": 10,
   "metadata": {},
   "outputs": [],
   "source": [
    "# define encrypted fields mapping  \n",
    "encrypted_fields_map = {\n",
    "    \"fields\": [\n",
    "        {\n",
    "            \"path\": \"name\",\n",
    "            \"bsonType\": \"string\",\n",
    "            \"queries\": [{\"queryType\": \"equality\"}]\n",
    "        },\n",
    "        {\n",
    "            \"path\": \"birthdate\",\n",
    "            \"bsonType\": \"date\",\n",
    "            \"queries\": [{\"queryType\": \"equality\"}]\n",
    "        },   \n",
    "        {\n",
    "            \"path\": \"active\",\n",
    "            \"bsonType\": \"bool\",\n",
    "            \"queries\": [{\"queryType\": \"equality\"}]\n",
    "        },              \n",
    "        {\n",
    "            \"path\": \"accounts\",\n",
    "            \"bsonType\": \"array\"\n",
    "        },\n",
    "        {\n",
    "            \"path\": \"address\",\n",
    "            \"bsonType\": \"string\"\n",
    "        },        \n",
    "        {\n",
    "            \"path\": \"email\",\n",
    "            \"bsonType\": \"string\",\n",
    "            \"queries\": [{\"queryType\": \"equality\"}]\n",
    "        }\n",
    "    ]\n",
    "}"
   ]
  },
  {
   "cell_type": "code",
   "execution_count": 11,
   "metadata": {},
   "outputs": [],
   "source": [
    "# delete existing keyVault and encrypted collection\n",
    "encrypted_client[key_vault_database_name][key_vault_collection_name].drop()\n",
    "encrypted_client[encrypted_database_name][encrypted_collection_name].drop()"
   ]
  },
  {
   "cell_type": "code",
   "execution_count": 12,
   "metadata": {},
   "outputs": [],
   "source": [
    "# create the encrypted collection\n",
    "client_encryption = ClientEncryption(\n",
    "        kms_provider_credentials,\n",
    "        key_vault_namespace,\n",
    "        encrypted_client,\n",
    "        codec_options=CodecOptions(uuid_representation=STANDARD)\n",
    ")  \n",
    "try:\n",
    "    client_encryption.create_encrypted_collection(\n",
    "        encrypted_client[encrypted_database_name],\n",
    "        encrypted_collection_name,\n",
    "        encrypted_fields_map,\n",
    "        \"local\",\n",
    "        {},\n",
    "    )\n",
    "except Exception as e:\n",
    "    raise Exception(\"Unable to create encrypted collection due to the following error: \", e)"
   ]
  },
  {
   "cell_type": "code",
   "execution_count": 13,
   "metadata": {},
   "outputs": [],
   "source": [
    "# copy data from source collection to encrypted collection\n",
    "encrypted_collection = encrypted_client[encrypted_database_name][encrypted_collection_name]\n",
    "source_collection = encrypted_client[source_database_name][source_collection_name]\n",
    "\n",
    "for doc in source_collection.find():\n",
    "    doc['birthdate'] = datetime.combine(doc['birthdate'].date(), time(0))\n",
    "    result = encrypted_collection.insert_one(doc)\n"
   ]
  }
 ],
 "metadata": {
  "kernelspec": {
   "display_name": ".venv",
   "language": "python",
   "name": "python3"
  },
  "language_info": {
   "codemirror_mode": {
    "name": "ipython",
    "version": 3
   },
   "file_extension": ".py",
   "mimetype": "text/x-python",
   "name": "python",
   "nbconvert_exporter": "python",
   "pygments_lexer": "ipython3",
   "version": "3.11.6"
  }
 },
 "nbformat": 4,
 "nbformat_minor": 2
}
