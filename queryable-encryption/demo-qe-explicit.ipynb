{
 "cells": [
  {
   "cell_type": "code",
   "execution_count": null,
   "metadata": {},
   "outputs": [],
   "source": [
    "from pymongo import MongoClient\n",
    "from pymongo.encryption import (ClientEncryption, AutoEncryptionOpts, Algorithm, QueryType)\n",
    "from bson.codec_options import CodecOptions\n",
    "from bson.binary import STANDARD\n",
    "from dotenv import load_dotenv\n",
    "import os\n",
    "import pprint\n",
    "import datetime"
   ]
  },
  {
   "cell_type": "code",
   "execution_count": null,
   "metadata": {},
   "outputs": [],
   "source": [
    "# setup some variables\n",
    "load_dotenv()\n",
    "uri = os.environ['MONGODB_URI']\n",
    "key_vault_database_name = \"encryption\"\n",
    "key_vault_collection_name = \"__keyVault_customers_ex\"\n",
    "key_vault_namespace = f\"{key_vault_database_name}.{key_vault_collection_name}\"\n",
    "encrypted_database_name = \"sample_analytics\"\n",
    "encrypted_collection_name = \"customers_enc_ex\""
   ]
  },
  {
   "cell_type": "code",
   "execution_count": null,
   "metadata": {},
   "outputs": [],
   "source": [
    "# build local kms provider credentials with the local CMK\n",
    "try:\n",
    "    path = \"./customer-master-key.txt\"\n",
    "    with open(path, \"rb\") as f:\n",
    "        local_master_key = f.read()\n",
    "        kms_provider_credentials = {\n",
    "            \"local\": {\n",
    "                \"key\": local_master_key\n",
    "            },\n",
    "        }\n",
    "except Exception as e:\n",
    "    raise Exception(\"Unable to read Customer Master Key from file due to the following error: \", e)\n",
    "\n",
    "# build MongoDB clients (standard one and encrypted)\n",
    "encrypted_client = MongoClient(\n",
    "    uri,\n",
    "    auto_encryption_opts= AutoEncryptionOpts(\n",
    "        kms_provider_credentials,\n",
    "        key_vault_namespace,\n",
    "        bypass_query_analysis=True\n",
    "    )\n",
    ")\n",
    "\n",
    "standard_client = MongoClient(\n",
    "    uri)\n",
    "\n",
    "# get the encrypted collection with the two clients\n",
    "encrypted_collection = encrypted_client[encrypted_database_name][encrypted_collection_name]\n",
    "collection = standard_client[encrypted_database_name][encrypted_collection_name]"
   ]
  },
  {
   "cell_type": "code",
   "execution_count": null,
   "metadata": {},
   "outputs": [],
   "source": [
    "# build the ClientEncryption helper\n",
    "client_encryption = ClientEncryption(\n",
    "    kms_provider_credentials,\n",
    "    key_vault_namespace,\n",
    "    encrypted_client,\n",
    "    CodecOptions(uuid_representation=STANDARD),\n",
    ")"
   ]
  },
  {
   "cell_type": "code",
   "execution_count": null,
   "metadata": {},
   "outputs": [],
   "source": [
    "# retrieve all the DEK\n",
    "key_vault = standard_client[key_vault_database_name][key_vault_collection_name]\n",
    "\n",
    "data_key_name_id = key_vault.find_one({\"keyAltNames\": \"dataKey1\"})[\"_id\"]\n",
    "data_key_active_id = key_vault.find_one({\"keyAltNames\": \"dataKey2\"})[\"_id\"]\n",
    "data_key_accounts_id = key_vault.find_one({\"keyAltNames\": \"dataKey3\"})[\"_id\"]\n",
    "data_key_address_id = key_vault.find_one({\"keyAltNames\": \"dataKey4\"})[\"_id\"]\n",
    "data_key_email_id = key_vault.find_one({\"keyAltNames\": \"dataKey5\"})[\"_id\"]\n",
    "data_key_birthdate_id = key_vault.find_one({\"keyAltNames\": \"dataKey6\"})[\"_id\"]"
   ]
  },
  {
   "cell_type": "markdown",
   "metadata": {},
   "source": [
    "### Insert document with unconfigured client"
   ]
  },
  {
   "cell_type": "code",
   "execution_count": null,
   "metadata": {},
   "outputs": [],
   "source": [
    "try:\n",
    "    collection.insert_one({\n",
    "        'accounts': [550665, 321695],\n",
    "        'address': '20 rue Quentin Bauchart\\n 75008 PARIS',\n",
    "        'birthdate': datetime.datetime(1978, 5, 11, 0, 0),\n",
    "        'email': 'john.doe@mongodb.com',\n",
    "        'name': 'John Doe',\n",
    "        'tier_and_details': {},\n",
    "        'username': 'whoami'\n",
    "    })\n",
    "except Exception as e:\n",
    "    print(\"Unable to insert document (as expected) with error: \", e)"
   ]
  },
  {
   "cell_type": "markdown",
   "metadata": {},
   "source": [
    "### Insert document"
   ]
  },
  {
   "cell_type": "code",
   "execution_count": null,
   "metadata": {},
   "outputs": [],
   "source": [
    "# encrypt each needed fields\n",
    "encryptedName = client_encryption.encrypt(\n",
    "    \"John Doe\", Algorithm.INDEXED, data_key_name_id, contention_factor=1)\n",
    "\n",
    "encryptedAccounts =  client_encryption.encrypt(\n",
    "    [550665, 321695], Algorithm.UNINDEXED, data_key_accounts_id)\n",
    "\n",
    "encryptedAddress =  client_encryption.encrypt(\n",
    "    '20 rue Quentin Bauchart\\n 75008 PARIS', Algorithm.UNINDEXED, data_key_address_id)\n",
    "\n",
    "encryptedEmail = client_encryption.encrypt(\n",
    "    'john.doe@mongodb.com', Algorithm.INDEXED, data_key_email_id, contention_factor=1)\n",
    "\n",
    "encryptedBirthdate = client_encryption.encrypt(\n",
    "    datetime.datetime(1978, 5, 11, 0, 0), Algorithm.INDEXED, data_key_birthdate_id, contention_factor=1)\n",
    "\n",
    "# insert document\n",
    "encrypted_collection.insert_one({\n",
    "    'accounts': encryptedAccounts,\n",
    "    'address': encryptedAddress,\n",
    "    'birthdate': encryptedBirthdate,\n",
    "    'email': encryptedEmail,\n",
    "    'name': encryptedName,\n",
    "    'tier_and_details': {},\n",
    "    'username': 'whoami'\n",
    "})"
   ]
  },
  {
   "cell_type": "markdown",
   "metadata": {},
   "source": [
    "### Query on unencrypted String field (with unconfigured client)"
   ]
  },
  {
   "cell_type": "code",
   "execution_count": null,
   "metadata": {},
   "outputs": [],
   "source": [
    "find_result = collection.find_one({\n",
    "    \"username\": \"whoami\"\n",
    "},\n",
    "{\"__safeContent__\": 0})\n",
    "pprint.pprint(find_result)"
   ]
  },
  {
   "cell_type": "markdown",
   "metadata": {},
   "source": [
    "### Query on encrypted String field (with unconfigured client)"
   ]
  },
  {
   "cell_type": "code",
   "execution_count": null,
   "metadata": {},
   "outputs": [],
   "source": [
    "find_result = collection.find_one({\n",
    "    \"name\": \"John Doe\"\n",
    "},\n",
    "{\"__safeContent__\": 0})\n",
    "pprint.pprint(find_result)"
   ]
  },
  {
   "cell_type": "markdown",
   "metadata": {},
   "source": [
    "### Query on encrypted String field"
   ]
  },
  {
   "cell_type": "code",
   "execution_count": null,
   "metadata": {},
   "outputs": [],
   "source": [
    "# encrypt the query field\n",
    "encryptedName = client_encryption.encrypt(\n",
    "    \"John Doe\",\n",
    "    Algorithm.INDEXED,\n",
    "    data_key_name_id,\n",
    "    query_type=QueryType.EQUALITY,\n",
    "    contention_factor=1\n",
    ")\n",
    "\n",
    "# execute the query\n",
    "find_result = encrypted_collection.find_one({\n",
    "    \"name\": encryptedName\n",
    "},\n",
    "{\"__safeContent__\": 0})\n",
    "pprint.pprint(find_result)"
   ]
  },
  {
   "cell_type": "markdown",
   "metadata": {},
   "source": [
    "### Query on Date field"
   ]
  },
  {
   "cell_type": "code",
   "execution_count": null,
   "metadata": {},
   "outputs": [],
   "source": [
    "# encrypt the query field\n",
    "encryptedBirthdate = client_encryption.encrypt(\n",
    "    datetime.datetime(1988, 6, 20, 0, 0),\n",
    "    Algorithm.INDEXED,\n",
    "    data_key_birthdate_id,\n",
    "    query_type=QueryType.EQUALITY,\n",
    "    contention_factor=1\n",
    ")\n",
    "\n",
    "# execute the query\n",
    "find_result = encrypted_collection.find_one({\n",
    "   \"birthdate\": encryptedBirthdate \n",
    "},\n",
    "{\"__safeContent__\": 0})\n",
    "pprint.pprint(find_result)"
   ]
  },
  {
   "cell_type": "markdown",
   "metadata": {},
   "source": [
    "### Query on Boolean field with $in operator"
   ]
  },
  {
   "cell_type": "code",
   "execution_count": null,
   "metadata": {},
   "outputs": [],
   "source": [
    "# encrypt the query field\n",
    "encryptedActive = client_encryption.encrypt(\n",
    "    True,\n",
    "    Algorithm.INDEXED,\n",
    "    data_key_active_id,\n",
    "    query_type=QueryType.EQUALITY,\n",
    "    contention_factor=1\n",
    ")\n",
    "\n",
    "# execute the query\n",
    "find_result = encrypted_collection.find_one({\n",
    "  \"active\": { \"$in\": [ encryptedActive ] } \n",
    "},\n",
    "{\"__safeContent__\": 0})\n",
    "pprint.pprint(find_result)"
   ]
  },
  {
   "cell_type": "markdown",
   "metadata": {},
   "source": [
    "### Query on unencrypted and encrypted String fields ($and)"
   ]
  },
  {
   "cell_type": "code",
   "execution_count": null,
   "metadata": {},
   "outputs": [],
   "source": [
    "# encrypt the query field\n",
    "encryptedName = client_encryption.encrypt(\n",
    "    \"John Doe\",\n",
    "    Algorithm.INDEXED,\n",
    "    data_key_name_id,\n",
    "    query_type=QueryType.EQUALITY,\n",
    "    contention_factor=1\n",
    ")\n",
    "\n",
    "# execute the query\n",
    "find_result = encrypted_collection.find_one({\n",
    "    \"$and\" : [ { \"name\": encryptedName }, { \"username\": \"whoami\" } ]\n",
    "},\n",
    "{\"__safeContent__\": 0})\n",
    "pprint.pprint(find_result)"
   ]
  },
  {
   "cell_type": "markdown",
   "metadata": {},
   "source": [
    "### Query on two encrypted String fields ($and)"
   ]
  },
  {
   "cell_type": "code",
   "execution_count": null,
   "metadata": {},
   "outputs": [],
   "source": [
    "# encrypt the query fields\n",
    "encryptedName = client_encryption.encrypt(\n",
    "    \"John Doe\",\n",
    "    Algorithm.INDEXED,\n",
    "    data_key_name_id,\n",
    "    query_type=QueryType.EQUALITY,\n",
    "    contention_factor=1\n",
    ")\n",
    "\n",
    "encryptedEmail = client_encryption.encrypt(\n",
    "    \"john.doe@mongodb.com\",\n",
    "    Algorithm.INDEXED,\n",
    "    data_key_email_id,\n",
    "    query_type=QueryType.EQUALITY,\n",
    "    contention_factor=1\n",
    ")\n",
    "\n",
    "# execute the query\n",
    "find_result = encrypted_collection.find_one({\n",
    "    \"$and\" : [ { \"name\": encryptedName }, { \"email\": encryptedEmail } ]\n",
    "},\n",
    "{\"__safeContent__\": 0})\n",
    "pprint.pprint(find_result)"
   ]
  }
 ],
 "metadata": {
  "kernelspec": {
   "display_name": ".venv",
   "language": "python",
   "name": "python3"
  },
  "language_info": {
   "codemirror_mode": {
    "name": "ipython",
    "version": 3
   },
   "file_extension": ".py",
   "mimetype": "text/x-python",
   "name": "python",
   "nbconvert_exporter": "python",
   "pygments_lexer": "ipython3",
   "version": "3.11.6"
  }
 },
 "nbformat": 4,
 "nbformat_minor": 2
}
