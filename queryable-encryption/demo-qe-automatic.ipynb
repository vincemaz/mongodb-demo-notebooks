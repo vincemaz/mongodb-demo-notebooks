{
 "cells": [
  {
   "cell_type": "code",
   "execution_count": 1,
   "metadata": {},
   "outputs": [],
   "source": [
    "from pymongo import MongoClient\n",
    "from pymongo.encryption import AutoEncryptionOpts\n",
    "from dotenv import load_dotenv\n",
    "import os\n",
    "import pprint\n",
    "import datetime"
   ]
  },
  {
   "cell_type": "code",
   "execution_count": null,
   "metadata": {},
   "outputs": [],
   "source": [
    "# setup some variables\n",
    "load_dotenv()\n",
    "uri = os.environ['MONGODB_URI']\n",
    "key_vault_database_name = \"encryption\"\n",
    "key_vault_collection_name = \"__keyVault_customers\"\n",
    "key_vault_namespace = f\"{key_vault_database_name}.{key_vault_collection_name}\"\n",
    "encrypted_database_name = \"sample_analytics\"\n",
    "encrypted_collection_name = \"customers_enc\""
   ]
  },
  {
   "cell_type": "code",
   "execution_count": null,
   "metadata": {},
   "outputs": [],
   "source": [
    "# build local kms provider credentials with the local CMK\n",
    "try:\n",
    "    path = \"./customer-master-key.txt\"\n",
    "    with open(path, \"rb\") as f:\n",
    "        local_master_key = f.read()\n",
    "        kms_provider_credentials = {\n",
    "            \"local\": {\n",
    "                \"key\": local_master_key\n",
    "            },\n",
    "        }\n",
    "except Exception as e:\n",
    "    raise Exception(\"Unable to read Customer Master Key from file due to the following error: \", e)\n",
    "\n",
    "# build MongoDB clients (standard one and encrypted)\n",
    "encrypted_client = MongoClient(\n",
    "    uri,\n",
    "    auto_encryption_opts= AutoEncryptionOpts(\n",
    "        kms_provider_credentials,\n",
    "        key_vault_namespace,\n",
    "        crypt_shared_lib_required=True,\n",
    "        crypt_shared_lib_path=os.environ['SHARED_LIB_PATH']\n",
    "    )\n",
    ")\n",
    "\n",
    "standard_client = MongoClient(\n",
    "    uri)\n",
    "\n",
    "# get the encrypted collection with the two clients\n",
    "encrypted_collection = encrypted_client[encrypted_database_name][encrypted_collection_name]\n",
    "collection = standard_client[encrypted_database_name][encrypted_collection_name]"
   ]
  },
  {
   "cell_type": "markdown",
   "metadata": {},
   "source": [
    "### Insert document with unconfigured client"
   ]
  },
  {
   "cell_type": "code",
   "execution_count": null,
   "metadata": {},
   "outputs": [],
   "source": [
    "try:\n",
    "    collection.insert_one({\n",
    "        'accounts': [550665, 321695],\n",
    "        'address': '20 rue Quentin Bauchart\\n 75008 PARIS',\n",
    "        'birthdate': datetime.datetime(1978, 5, 11, 0, 0),\n",
    "        'email': 'john.doe@mongodb.com',\n",
    "        'name': 'John Doe',\n",
    "        'tier_and_details': {},\n",
    "        'username': 'whoami'\n",
    "    })\n",
    "except Exception as e:\n",
    "    print(\"Unable to insert document (as expected) with error: \", e)"
   ]
  },
  {
   "cell_type": "markdown",
   "metadata": {},
   "source": [
    "### Insert document"
   ]
  },
  {
   "cell_type": "code",
   "execution_count": null,
   "metadata": {},
   "outputs": [],
   "source": [
    "encrypted_collection.insert_one({\n",
    "    'accounts': [550665, 321695],\n",
    "    'address': '20 rue Quentin Bauchart\\n 75008 PARIS',\n",
    "    'birthdate': datetime.datetime(1978, 5, 11, 0, 0),\n",
    "    'email': 'john.doe@mongodb.com',\n",
    "    'name': 'John Doe',\n",
    "    'tier_and_details': {},\n",
    "    'username': 'whoami'\n",
    "})"
   ]
  },
  {
   "cell_type": "markdown",
   "metadata": {},
   "source": [
    "### Query on unencrypted String field (with unconfigured client)"
   ]
  },
  {
   "cell_type": "code",
   "execution_count": null,
   "metadata": {},
   "outputs": [],
   "source": [
    "find_result = collection.find_one({\n",
    "    \"username\": \"whoami\"\n",
    "},\n",
    "{\"__safeContent__\": 0})\n",
    "pprint.pprint(find_result)"
   ]
  },
  {
   "cell_type": "markdown",
   "metadata": {},
   "source": [
    "### Query on encrypted String field (with unconfigured client)"
   ]
  },
  {
   "cell_type": "code",
   "execution_count": null,
   "metadata": {},
   "outputs": [],
   "source": [
    "find_result = collection.find_one({\n",
    "    \"name\": \"John Doe\"\n",
    "},\n",
    "{\"__safeContent__\": 0})\n",
    "pprint.pprint(find_result)"
   ]
  },
  {
   "cell_type": "markdown",
   "metadata": {},
   "source": [
    "### Query on encrypted String field"
   ]
  },
  {
   "cell_type": "code",
   "execution_count": null,
   "metadata": {},
   "outputs": [],
   "source": [
    "find_result = encrypted_collection.find_one({\n",
    "    \"name\": \"John Doe\"\n",
    "},\n",
    "{\"__safeContent__\": 0})\n",
    "pprint.pprint(find_result)"
   ]
  },
  {
   "cell_type": "markdown",
   "metadata": {},
   "source": [
    "### Query on Date field"
   ]
  },
  {
   "cell_type": "code",
   "execution_count": null,
   "metadata": {},
   "outputs": [],
   "source": [
    "date_param = datetime.datetime(1988, 6, 20, 0, 0)\n",
    "find_result = encrypted_collection.find_one({\n",
    "   \"birthdate\": date_param \n",
    "},\n",
    "{\"__safeContent__\": 0})\n",
    "pprint.pprint(find_result)"
   ]
  },
  {
   "cell_type": "markdown",
   "metadata": {},
   "source": [
    "###  Query on Boolean field with $in operator"
   ]
  },
  {
   "cell_type": "code",
   "execution_count": null,
   "metadata": {},
   "outputs": [],
   "source": [
    "find_result = encrypted_collection.find_one({\n",
    "  \"active\": { \"$in\": [ True ] } \n",
    "},\n",
    "{\"__safeContent__\": 0})\n",
    "pprint.pprint(find_result)\n"
   ]
  },
  {
   "cell_type": "markdown",
   "metadata": {},
   "source": [
    "### Query on unencrypted and encrypted String fields ($and)"
   ]
  },
  {
   "cell_type": "code",
   "execution_count": null,
   "metadata": {},
   "outputs": [],
   "source": [
    "find_result = encrypted_collection.find_one({\n",
    "    \"$and\" : [ { \"name\": \"John Doe\" }, { \"username\": \"whoami\" } ]\n",
    "},\n",
    "{\"__safeContent__\": 0})\n",
    "pprint.pprint(find_result)"
   ]
  },
  {
   "cell_type": "markdown",
   "metadata": {},
   "source": [
    "### Query on two encrypted String fields ($and)"
   ]
  },
  {
   "cell_type": "code",
   "execution_count": null,
   "metadata": {},
   "outputs": [],
   "source": [
    "find_result = encrypted_collection.find_one({\n",
    "    \"$and\" : [ { \"name\": \"John Doe\" }, { \"email\": \"john.doe@mongodb.com\" } ]\n",
    "},\n",
    "{\"__safeContent__\": 0})\n",
    "pprint.pprint(find_result)"
   ]
  }
 ],
 "metadata": {
  "kernelspec": {
   "display_name": ".venv",
   "language": "python",
   "name": "python3"
  },
  "language_info": {
   "codemirror_mode": {
    "name": "ipython",
    "version": 3
   },
   "file_extension": ".py",
   "mimetype": "text/x-python",
   "name": "python",
   "nbconvert_exporter": "python",
   "pygments_lexer": "ipython3",
   "version": "3.11.6"
  }
 },
 "nbformat": 4,
 "nbformat_minor": 2
}
